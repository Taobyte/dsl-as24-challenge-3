{
 "cells": [
  {
   "cell_type": "code",
   "execution_count": 11,
   "metadata": {},
   "outputs": [],
   "source": [
    "import numpy as np \n",
    "import os \n",
    "os.environ[\"KERAS_BACKEND\"] = \"jax\"\n",
    "import keras \n",
    "import pytest\n",
    "from numpy import ndarray\n",
    "import torch as th"
   ]
  },
  {
   "cell_type": "code",
   "execution_count": 7,
   "metadata": {},
   "outputs": [],
   "source": [
    "class ContractingLayer(keras.layers.Layer):\n",
    "    \n",
    "    def __init__(self, name=None):\n",
    "        super().__init__(name=name)\n",
    "        self.convoluation_layer = keras.Sequential(\n",
    "            [\n",
    "                keras.layers.Conv2D(64, kernel_size=(3, 3), activation=\"relu\"),\n",
    "                keras.layers.Conv2D(128, kernel_size=(3, 3), activation=\"relu\"),\n",
    "            ]\n",
    "        )\n",
    "        self.max_pooling_layer = keras.layers.MaxPooling2D(pool_size=(2, 2))\n",
    "\n",
    "    def call(self, x):\n",
    "        y = self.convoluation_layer(x)\n",
    "        z = self.max_pooling_layer(y)\n",
    "        return z, y"
   ]
  },
  {
   "cell_type": "code",
   "execution_count": null,
   "metadata": {},
   "outputs": [],
   "source": [
    "class UpsamplingLayer(keras.layers.Layer):\n",
    "    \n",
    "    def __init__(self, name=None):\n",
    "        super().__init__(name=name)\n",
    "        self.transposed_conv = keras.layers.Conv2DTranspose(32, kernel_size=3, strides=(2,2), activation='relu')\n",
    "        self.concatenate_layer = keras.layers.Concatenate(axis=-1)\n",
    "        self.convolution_layer = keras.layers.Conv2D(64, kernel_size=(3, 3), activation=\"relu\")\n",
    "\n",
    "    def call(self, x: ndarray, skip_tensor: ndarray) -> ndarray:\n",
    "        x = self.transposed_conv(x)\n",
    "        x = self.concatenate_layer([x, skip_tensor])\n",
    "        x = self.concatenate_layer(x)\n",
    "        return x"
   ]
  },
  {
   "cell_type": "code",
   "execution_count": null,
   "metadata": {},
   "outputs": [],
   "source": [
    "class UNET(keras.Model):\n",
    "    def __init__(self):\n",
    "        super().__init__()\n",
    "\n",
    "        self.cl1 = ContractingLayer()\n",
    "        self.cl2 = ContractingLayer()\n",
    "        self.cl3 = ContractingLayer()\n",
    "        self.cl4 = ContractingLayer()\n",
    "        self.cl5 = ContractingLayer()\n",
    "\n",
    "        self.inner_conv_block = keras.Sequential(\n",
    "            [\n",
    "                keras.layers.Conv2D(64, kernel_size=(3, 3), activation=\"relu\"),\n",
    "                keras.layers.Conv2D(64, kernel_size=(3, 3), activation=\"relu\"),\n",
    "            ]\n",
    "        )\n",
    "\n",
    "        self.ul1 = UpsamplingLayer()\n",
    "        self.ul2 = UpsamplingLayer()\n",
    "        self.ul3 = UpsamplingLayer()\n",
    "        self.ul4 = UpsamplingLayer()\n",
    "        self.ul5 = UpsamplingLayer()\n",
    "\n",
    "    def call(self, x: ndarray) -> ndarray:\n",
    "\n",
    "        x, y1 = self.cl1(x)\n",
    "        x, y2 = self.cl2(x)\n",
    "        x, y3 = self.cl3(x)\n",
    "        x, y4 = self.cl4(x)\n",
    "        x, y5 = self.cl5(x)\n",
    "\n",
    "        x = self.inner_conv_block(x)\n",
    "\n",
    "        x = self.ul1(x,y1)\n",
    "        x = self.ul2(x,y2)\n",
    "        x = self.ul3(x,y3)\n",
    "        x = self.ul4(x,y4)\n",
    "        x = self.ul5(x,y5)\n",
    "\n",
    "        return self.dense(x)\n"
   ]
  },
  {
   "cell_type": "code",
   "execution_count": 10,
   "metadata": {},
   "outputs": [
    {
     "name": "stdout",
     "output_type": "stream",
     "text": [
      "\u001b[1m======================================= test session starts =======================================\u001b[0m\n",
      "platform win32 -- Python 3.12.3, pytest-8.3.3, pluggy-1.5.0 -- c:\\Users\\cleme\\miniconda3\\envs\\dsl\\python.exe\n",
      "cachedir: .pytest_cache\n",
      "rootdir: c:\\Users\\cleme\\ETH\\Master\\DataLab\\dsl-as24-challenge-3\n",
      "plugins: anyio-4.2.0, typeguard-4.3.0\n",
      "\u001b[1mcollecting ... \u001b[0mcollected 1 item\n",
      "\n",
      "t_d2f13f6170454e3d897facd63deab6cf.py::test_contracting_layer \u001b[32mPASSED\u001b[0m\u001b[32m                         [100%]\u001b[0m\n",
      "\n",
      "\u001b[32m======================================== \u001b[32m\u001b[1m1 passed\u001b[0m\u001b[32m in 0.17s\u001b[0m\u001b[32m ========================================\u001b[0m\n"
     ]
    },
    {
     "data": {
      "text/plain": [
       "<ExitCode.OK: 0>"
      ]
     },
     "execution_count": 10,
     "metadata": {},
     "output_type": "execute_result"
    }
   ],
   "source": [
    "import ipytest\n",
    "ipytest.autoconfig()\n",
    "\n",
    "def test_contracting_layer():\n",
    "    input = np.zeros((1,32,32,1))\n",
    "    layer = ContractingLayer()\n",
    "    assert layer(input).shape == (1,14,14,128) \n",
    "\n",
    "def test_upsampling_layer():\n",
    "    pass\n",
    "\n",
    "def test_UNET():\n",
    "    pass\n",
    "\n",
    "\n",
    "ipytest.run('-vv')"
   ]
  },
  {
   "cell_type": "code",
   "execution_count": 2,
   "metadata": {},
   "outputs": [
    {
     "name": "stdout",
     "output_type": "stream",
     "text": [
      "Downloading data from https://storage.googleapis.com/tensorflow/tf-keras-datasets/mnist.npz\n",
      "\u001b[1m11490434/11490434\u001b[0m \u001b[32m━━━━━━━━━━━━━━━━━━━━\u001b[0m\u001b[37m\u001b[0m \u001b[1m1s\u001b[0m 0us/step\n"
     ]
    }
   ],
   "source": [
    "(x_train, y_train), (x_test, y_test) = keras.datasets.mnist.load_data()\n",
    "\n",
    "# Scale images to the [0, 1] range\n",
    "x_train = x_train.astype(\"float32\") / 255\n",
    "x_test = x_test.astype(\"float32\") / 255\n",
    "# Make sure images have shape (28, 28, 1)\n",
    "x_train = np.expand_dims(x_train, -1)\n",
    "x_test = np.expand_dims(x_test, -1)"
   ]
  },
  {
   "cell_type": "code",
   "execution_count": 16,
   "metadata": {},
   "outputs": [
    {
     "data": {
      "text/plain": [
       "torch.Size([6, 6, 2])"
      ]
     },
     "execution_count": 16,
     "metadata": {},
     "output_type": "execute_result"
    }
   ],
   "source": [
    "tensor = th.rand(10)\n",
    "th.stft(tensor, 10, return_complex=False).shape"
   ]
  }
 ],
 "metadata": {
  "kernelspec": {
   "display_name": "dsl",
   "language": "python",
   "name": "python3"
  },
  "language_info": {
   "codemirror_mode": {
    "name": "ipython",
    "version": 3
   },
   "file_extension": ".py",
   "mimetype": "text/x-python",
   "name": "python",
   "nbconvert_exporter": "python",
   "pygments_lexer": "ipython3",
   "version": "3.12.3"
  }
 },
 "nbformat": 4,
 "nbformat_minor": 2
}
