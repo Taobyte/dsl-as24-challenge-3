{
 "cells": [
  {
   "cell_type": "code",
   "execution_count": 52,
   "metadata": {},
   "outputs": [],
   "source": [
    "import numpy as np \n",
    "import os \n",
    "os.environ[\"KERAS_BACKEND\"] = \"jax\"\n",
    "import keras \n",
    "import pytest\n",
    "from numpy import ndarray\n",
    "import torch as th"
   ]
  },
  {
   "cell_type": "code",
   "execution_count": 53,
   "metadata": {},
   "outputs": [],
   "source": [
    "class UpsamplingLayer(keras.layers.Layer):\n",
    "    \n",
    "    def __init__(self, channel_size: int, name=None):\n",
    "        super().__init__(name=name)\n",
    "        self.transposed_conv = keras.layers.Conv2DTranspose(channel_size, kernel_size=3, strides=(2,2), activation='relu', padding=\"same\")\n",
    "        self.concatenate_layer = keras.layers.Concatenate(axis=-1)\n",
    "        self.convolution_layer = keras.layers.Conv2D(channel_size, kernel_size=(3, 3), activation=\"relu\", padding=\"same\")\n",
    "\n",
    "    def call(self, x: ndarray, skip_tensor: ndarray) -> ndarray:\n",
    "        x = self.transposed_conv(x)\n",
    "        x = self.concatenate_layer([x, skip_tensor])\n",
    "        x = self.convolution_layer(x)\n",
    "        return x\n",
    "     "
   ]
  },
  {
   "cell_type": "code",
   "execution_count": 54,
   "metadata": {},
   "outputs": [],
   "source": [
    "class DownsamplingLayer(keras.layers.Layer):\n",
    "    \n",
    "    def __init__(self, channel_size: int, name=None):\n",
    "        super().__init__(name=name)\n",
    "        self.convoluation_layer = keras.Sequential(\n",
    "            [\n",
    "                keras.layers.Conv2D(channel_size, kernel_size=(3, 3), activation=\"relu\", padding=\"same\"),\n",
    "                keras.layers.Conv2D(channel_size, kernel_size=(3, 3), activation=\"relu\", padding=\"same\"),\n",
    "            ]\n",
    "        )\n",
    "        self.max_pooling_layer = keras.layers.MaxPooling2D(pool_size=(2, 2))\n",
    "\n",
    "    def call(self, x):\n",
    "        y = self.convoluation_layer(x)\n",
    "        z = self.max_pooling_layer(y)\n",
    "        return z, y"
   ]
  },
  {
   "cell_type": "code",
   "execution_count": 61,
   "metadata": {},
   "outputs": [],
   "source": [
    "class UNET(keras.Model):\n",
    "    def __init__(self):\n",
    "        super().__init__()\n",
    "\n",
    "        self.cl1 = DownsamplingLayer(16)\n",
    "        self.cl2 = DownsamplingLayer(32)\n",
    "        self.cl3 = DownsamplingLayer(64)\n",
    "        self.cl4 = DownsamplingLayer(128)\n",
    "        self.cl5 = DownsamplingLayer(256)\n",
    "\n",
    "        self.inner_conv_block = keras.Sequential(\n",
    "            [\n",
    "                keras.layers.Conv2D(512, kernel_size=(1, 1), activation=\"relu\"),\n",
    "                keras.layers.Conv2D(512, kernel_size=(1, 1), activation=\"relu\"),\n",
    "            ]\n",
    "        )\n",
    "\n",
    "        self.ul1 = UpsamplingLayer(256)\n",
    "        self.ul2 = UpsamplingLayer(128)\n",
    "        self.ul3 = UpsamplingLayer(64)\n",
    "        self.ul4 = UpsamplingLayer(32)\n",
    "        self.ul5 = UpsamplingLayer(16)\n",
    "\n",
    "        self.output_layer = keras.layers.Conv2D(6, kernel_size=(1, 1), activation=\"sigmoid\")\n",
    "\n",
    "    def call(self, x: ndarray) -> ndarray:\n",
    "\n",
    "        x, y1 = self.cl1(x)\n",
    "        x, y2 = self.cl2(x)\n",
    "        x, y3 = self.cl3(x)\n",
    "        x, y4 = self.cl4(x)\n",
    "        x, y5 = self.cl5(x)\n",
    "\n",
    "        x = self.inner_conv_block(x)\n",
    "\n",
    "        x = self.ul1(x,y5)\n",
    "        x = self.ul2(x,y4)\n",
    "        x = self.ul3(x,y3)\n",
    "        x = self.ul4(x,y2)\n",
    "        x = self.ul5(x,y1)\n",
    "\n",
    "        x = self.output_layer(x)\n",
    "\n",
    "        return x"
   ]
  },
  {
   "cell_type": "code",
   "execution_count": 66,
   "metadata": {},
   "outputs": [],
   "source": [
    "class STFTLayer(keras.layers.Layer):\n",
    "    \n",
    "    def __init__(self, sequence_length: int, sequence_stride: int, fft_length: int, name=None):\n",
    "        super().__init__(name=name)\n",
    "        self.sequence_length = sequence_length\n",
    "        self.sequence_stride = sequence_stride\n",
    "        self.fft_length = fft_length\n",
    "\n",
    "    def call(self, x: ndarray) -> tuple[ndarray,tuple[ndarray,ndarray]]:\n",
    "\n",
    "        # input shape: x.shape == (3,6000)\n",
    "        # output shape: stft.shape == (6,182,32)\n",
    "\n",
    "        stft = keras.ops.stft(\n",
    "            x, self.sequence_length, self.sequence_stride, self.fft_length, window=\"hann\", center=True\n",
    "            ) \n",
    "        \n",
    "        stft_normalized = \n",
    "        \n",
    "        return stft_normalized, stft"
   ]
  },
  {
   "cell_type": "code",
   "execution_count": 144,
   "metadata": {},
   "outputs": [
    {
     "name": "stdout",
     "output_type": "stream",
     "text": [
      "\u001b[1m======================================= test session starts =======================================\u001b[0m\n",
      "platform win32 -- Python 3.12.3, pytest-8.3.3, pluggy-1.5.0 -- c:\\Users\\cleme\\miniconda3\\envs\\dsl\\python.exe\n",
      "cachedir: .pytest_cache\n",
      "rootdir: c:\\Users\\cleme\\ETH\\Master\\DataLab\\dsl-as24-challenge-3\n",
      "plugins: anyio-4.2.0, typeguard-4.3.0\n",
      "\u001b[1mcollecting ... \u001b[0mcollected 5 items\n",
      "\n",
      "t_04cef47487e049db8e24cf50c9e5a823.py::test_upsampling \u001b[32mPASSED\u001b[0m\u001b[32m                                [ 20%]\u001b[0m\n",
      "t_04cef47487e049db8e24cf50c9e5a823.py::test_downsampling_before_max_pooling \u001b[32mPASSED\u001b[0m\u001b[32m           [ 40%]\u001b[0m\n",
      "t_04cef47487e049db8e24cf50c9e5a823.py::test_downsampling_after_max_pooling \u001b[32mPASSED\u001b[0m\u001b[32m            [ 60%]\u001b[0m\n",
      "t_04cef47487e049db8e24cf50c9e5a823.py::test_UNET \u001b[32mPASSED\u001b[0m\u001b[32m                                      [ 80%]\u001b[0m\n",
      "t_04cef47487e049db8e24cf50c9e5a823.py::test_STFT \u001b[32mPASSED\u001b[0m\u001b[32m                                      [100%]\u001b[0m\n",
      "\n",
      "\u001b[32m======================================== \u001b[32m\u001b[1m5 passed\u001b[0m\u001b[32m in 1.09s\u001b[0m\u001b[32m ========================================\u001b[0m\n"
     ]
    },
    {
     "data": {
      "text/plain": [
       "<ExitCode.OK: 0>"
      ]
     },
     "execution_count": 144,
     "metadata": {},
     "output_type": "execute_result"
    }
   ],
   "source": [
    "import ipytest\n",
    "ipytest.autoconfig()\n",
    "\n",
    "def test_upsampling():\n",
    "    layer = UpsamplingLayer(256)\n",
    "    skip_tensor = np.zeros((1,16,16,256))\n",
    "    current_input = np.zeros((1,8,8,512))\n",
    "\n",
    "    assert layer(current_input, skip_tensor).shape == (1,16,16,256)\n",
    "\n",
    "def test_downsampling_before_max_pooling():\n",
    "    layer = DownsamplingLayer(16)\n",
    "    current_input = np.zeros((1,256,256,6))\n",
    "    after_max, before_max = layer(current_input)\n",
    "    assert before_max.shape == (1,256,256,16)\n",
    "\n",
    "def test_downsampling_after_max_pooling():\n",
    "    layer = DownsamplingLayer(16)\n",
    "    current_input = np.zeros((1,256,256,6))\n",
    "    after_max, before_max = layer(current_input)\n",
    "    assert after_max.shape == (1,128,128,16)\n",
    "\n",
    "def test_UNET():\n",
    "    input_shape = (1,128, 32,6)\n",
    "    model = UNET()\n",
    "    current_input = np.zeros(input_shape)\n",
    "    output = model(current_input)\n",
    "    assert output.shape == input_shape\n",
    "\n",
    "def test_STFT():\n",
    "    layer = STFTLayer(63,33,63)\n",
    "    input = np.zeros((3,6000))\n",
    "    output = layer(input)\n",
    "    assert output[0][0].shape == (3,182, 32)\n",
    "    \n",
    "\n",
    "ipytest.run('-vv')"
   ]
  },
  {
   "cell_type": "code",
   "execution_count": 140,
   "metadata": {},
   "outputs": [],
   "source": [
    "import matplotlib.pyplot as plt"
   ]
  },
  {
   "cell_type": "code",
   "execution_count": 142,
   "metadata": {},
   "outputs": [
    {
     "data": {
      "text/plain": [
       "<matplotlib.colorbar.Colorbar at 0x2859c367920>"
      ]
     },
     "execution_count": 142,
     "metadata": {},
     "output_type": "execute_result"
    },
    {
     "data": {
      "image/png": "[encoded data removed]",
      "text/plain": [
       "<Figure size 640x480 with 2 Axes>"
      ]
     },
     "metadata": {},
     "output_type": "display_data"
    }
   ],
   "source": [
    "layer = STFTLayer(63,33,63)\n",
    "input = np.random.normal(size=6000)\n",
    "a = layer(input)\n",
    "plt.imshow(a[0][0], cmap='viridis', interpolation='nearest')\n",
    "plt.colorbar()\n"
   ]
  },
  {
   "cell_type": "code",
   "execution_count": 2,
   "metadata": {},
   "outputs": [
    {
     "name": "stdout",
     "output_type": "stream",
     "text": [
      "Downloading data from https://storage.googleapis.com/tensorflow/tf-keras-datasets/mnist.npz\n",
      "\u001b[1m11490434/11490434\u001b[0m \u001b[32m━━━━━━━━━━━━━━━━━━━━\u001b[0m\u001b[37m\u001b[0m \u001b[1m1s\u001b[0m 0us/step\n"
     ]
    }
   ],
   "source": [
    "(x_train, y_train), (x_test, y_test) = keras.datasets.mnist.load_data()\n",
    "\n",
    "# Scale images to the [0, 1] range\n",
    "x_train = x_train.astype(\"float32\") / 255\n",
    "x_test = x_test.astype(\"float32\") / 255\n",
    "# Make sure images have shape (28, 28, 1)\n",
    "x_train = np.expand_dims(x_train, -1)\n",
    "x_test = np.expand_dims(x_test, -1)"
   ]
  },
  {
   "cell_type": "code",
   "execution_count": 10,
   "metadata": {},
   "outputs": [
    {
     "data": {
      "text/plain": [
       "torch.Size([256, 48, 2])"
      ]
     },
     "execution_count": 10,
     "metadata": {},
     "output_type": "execute_result"
    }
   ],
   "source": [
    "tensor = th.rand(6000)\n",
    "th.stft(tensor, 511, return_complex=False).shape"
   ]
  },
  {
   "cell_type": "code",
   "execution_count": 57,
   "metadata": {},
   "outputs": [
    {
     "data": {
      "text/html": [
       "<pre style=\"white-space:pre;overflow-x:auto;line-height:normal;font-family:Menlo,'DejaVu Sans Mono',consolas,'Courier New',monospace\"><span style=\"font-weight: bold\">Model: \"mars_q_network_3\"</span>\n",
       "</pre>\n"
      ],
      "text/plain": [
       "\u001b[1mModel: \"mars_q_network_3\"\u001b[0m\n"
      ]
     },
     "metadata": {},
     "output_type": "display_data"
    },
    {
     "data": {
      "text/html": [
       "<pre style=\"white-space:pre;overflow-x:auto;line-height:normal;font-family:Menlo,'DejaVu Sans Mono',consolas,'Courier New',monospace\">┏━━━━━━━━━━━━━━━━━━━━━━━━━━━━━━━━━┳━━━━━━━━━━━━━━━━━━━━━━━━┳━━━━━━━━━━━━━━━┓\n",
       "┃<span style=\"font-weight: bold\"> Layer (type)                    </span>┃<span style=\"font-weight: bold\"> Output Shape           </span>┃<span style=\"font-weight: bold\">       Param # </span>┃\n",
       "┡━━━━━━━━━━━━━━━━━━━━━━━━━━━━━━━━━╇━━━━━━━━━━━━━━━━━━━━━━━━╇━━━━━━━━━━━━━━━┩\n",
       "│ stft_layer_30 (<span style=\"color: #0087ff; text-decoration-color: #0087ff\">STFTLayer</span>)       │ ?                      │   <span style=\"color: #00af00; text-decoration-color: #00af00\">0</span> (unbuilt) │\n",
       "├─────────────────────────────────┼────────────────────────┼───────────────┤\n",
       "│ unet_2 (<span style=\"color: #0087ff; text-decoration-color: #0087ff\">UNET</span>)                   │ ?                      │   <span style=\"color: #00af00; text-decoration-color: #00af00\">0</span> (unbuilt) │\n",
       "├─────────────────────────────────┼────────────────────────┼───────────────┤\n",
       "│ istft_layer_2 (<span style=\"color: #0087ff; text-decoration-color: #0087ff\">ISTFTLayer</span>)      │ ?                      │   <span style=\"color: #00af00; text-decoration-color: #00af00\">0</span> (unbuilt) │\n",
       "└─────────────────────────────────┴────────────────────────┴───────────────┘\n",
       "</pre>\n"
      ],
      "text/plain": [
       "┏━━━━━━━━━━━━━━━━━━━━━━━━━━━━━━━━━┳━━━━━━━━━━━━━━━━━━━━━━━━┳━━━━━━━━━━━━━━━┓\n",
       "┃\u001b[1m \u001b[0m\u001b[1mLayer (type)                   \u001b[0m\u001b[1m \u001b[0m┃\u001b[1m \u001b[0m\u001b[1mOutput Shape          \u001b[0m\u001b[1m \u001b[0m┃\u001b[1m \u001b[0m\u001b[1m      Param #\u001b[0m\u001b[1m \u001b[0m┃\n",
       "┡━━━━━━━━━━━━━━━━━━━━━━━━━━━━━━━━━╇━━━━━━━━━━━━━━━━━━━━━━━━╇━━━━━━━━━━━━━━━┩\n",
       "│ stft_layer_30 (\u001b[38;5;33mSTFTLayer\u001b[0m)       │ ?                      │   \u001b[38;5;34m0\u001b[0m (unbuilt) │\n",
       "├─────────────────────────────────┼────────────────────────┼───────────────┤\n",
       "│ unet_2 (\u001b[38;5;33mUNET\u001b[0m)                   │ ?                      │   \u001b[38;5;34m0\u001b[0m (unbuilt) │\n",
       "├─────────────────────────────────┼────────────────────────┼───────────────┤\n",
       "│ istft_layer_2 (\u001b[38;5;33mISTFTLayer\u001b[0m)      │ ?                      │   \u001b[38;5;34m0\u001b[0m (unbuilt) │\n",
       "└─────────────────────────────────┴────────────────────────┴───────────────┘\n"
      ]
     },
     "metadata": {},
     "output_type": "display_data"
    },
    {
     "data": {
      "text/html": [
       "<pre style=\"white-space:pre;overflow-x:auto;line-height:normal;font-family:Menlo,'DejaVu Sans Mono',consolas,'Courier New',monospace\"><span style=\"font-weight: bold\"> Total params: </span><span style=\"color: #00af00; text-decoration-color: #00af00\">0</span> (0.00 B)\n",
       "</pre>\n"
      ],
      "text/plain": [
       "\u001b[1m Total params: \u001b[0m\u001b[38;5;34m0\u001b[0m (0.00 B)\n"
      ]
     },
     "metadata": {},
     "output_type": "display_data"
    },
    {
     "data": {
      "text/html": [
       "<pre style=\"white-space:pre;overflow-x:auto;line-height:normal;font-family:Menlo,'DejaVu Sans Mono',consolas,'Courier New',monospace\"><span style=\"font-weight: bold\"> Trainable params: </span><span style=\"color: #00af00; text-decoration-color: #00af00\">0</span> (0.00 B)\n",
       "</pre>\n"
      ],
      "text/plain": [
       "\u001b[1m Trainable params: \u001b[0m\u001b[38;5;34m0\u001b[0m (0.00 B)\n"
      ]
     },
     "metadata": {},
     "output_type": "display_data"
    },
    {
     "data": {
      "text/html": [
       "<pre style=\"white-space:pre;overflow-x:auto;line-height:normal;font-family:Menlo,'DejaVu Sans Mono',consolas,'Courier New',monospace\"><span style=\"font-weight: bold\"> Non-trainable params: </span><span style=\"color: #00af00; text-decoration-color: #00af00\">0</span> (0.00 B)\n",
       "</pre>\n"
      ],
      "text/plain": [
       "\u001b[1m Non-trainable params: \u001b[0m\u001b[38;5;34m0\u001b[0m (0.00 B)\n"
      ]
     },
     "metadata": {},
     "output_type": "display_data"
    }
   ],
   "source": [
    "model = MarsQNetwork()\n",
    "model.summary()"
   ]
  }
 ],
 "metadata": {
  "kernelspec": {
   "display_name": "dsl",
   "language": "python",
   "name": "python3"
  },
  "language_info": {
   "codemirror_mode": {
    "name": "ipython",
    "version": 3
   },
   "file_extension": ".py",
   "mimetype": "text/x-python",
   "name": "python",
   "nbconvert_exporter": "python",
   "pygments_lexer": "ipython3",
   "version": "3.12.3"
  }
 },
 "nbformat": 4,
 "nbformat_minor": 2
}
