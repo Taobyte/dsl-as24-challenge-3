{
 "cells": [
  {
   "cell_type": "code",
   "execution_count": 20,
   "metadata": {},
   "outputs": [],
   "source": [
    "import torch as th\n",
    "import pytest\n",
    "import pandas as pd\n",
    "import numpy as np\n",
    "from torch.utils.data import DataLoader, Dataset\n",
    "import os\n",
    "import glob"
   ]
  },
  {
   "cell_type": "code",
   "execution_count": 59,
   "metadata": {},
   "outputs": [],
   "source": [
    "class SeismicDataset(Dataset):\n",
    "\n",
    "    def __init__(self, folder_path, is_noise = False, randomized = False):\n",
    "\n",
    "        \"\"\"\n",
    "        Args:\n",
    "            folder_path (str): Path to the folder containing .npz files.\n",
    "            is_noise (bool): \n",
    "        \"\"\"\n",
    "\n",
    "        self.folder_path = folder_path\n",
    "        self.file_names = glob.glob(f'{folder_path}/**/*.npz', recursive=True)\n",
    "        self.is_noise = is_noise\n",
    "        self.randomized = randomized\n",
    "\n",
    "\n",
    "    def __len__(self) -> int:\n",
    "        return len(self.file_names)\n",
    "\n",
    "    def __getitem__(self, idx) -> tuple[th.Tensor, int, str]:\n",
    "        wave_path = self.file_names[idx]\n",
    "        wave = np.load(wave_path, allow_pickle=True)\n",
    "\n",
    "        wave_name = (os.path.splitext(os.path.basename(wave_path)))[0]\n",
    "\n",
    "        upper_bound = 6000\n",
    "        if self.is_noise:\n",
    "            upper_bound = 12000\n",
    "\n",
    "        start = 0\n",
    "        if self.randomized:\n",
    "            start = np.random.randint(low = 0, high = upper_bound)\n",
    "\n",
    "        Z_channel = wave['earthquake_waveform_Z'][start:start+6000]\n",
    "        N_channel = wave['earthquake_waveform_N'][start:start+6000]\n",
    "        E_channel = wave['earthquake_waveform_E'][start:start+6000]\n",
    "\n",
    "        event = np.stack([Z_channel, N_channel, E_channel], axis=0)\n",
    "\n",
    "        tensor = th.from_numpy(event)\n",
    "\n",
    "        tensor_normalized = tensor / tensor.abs().max()\n",
    "\n",
    "        p_wave_start = 6000 - start\n",
    "\n",
    "        return tensor_normalized, p_wave_start, wave_name\n"
   ]
  },
  {
   "cell_type": "code",
   "execution_count": 60,
   "metadata": {},
   "outputs": [
    {
     "name": "stdout",
     "output_type": "stream",
     "text": [
      "\u001b[1m======================================= test session starts =======================================\u001b[0m\n",
      "platform win32 -- Python 3.12.3, pytest-8.3.3, pluggy-1.5.0 -- c:\\Users\\cleme\\miniconda3\\envs\\dsl\\python.exe\n",
      "cachedir: .pytest_cache\n",
      "rootdir: c:\\Users\\cleme\\ETH\\Master\\DataLab\\dsl-as24-challenge-3\n",
      "plugins: anyio-4.2.0, typeguard-4.3.0\n",
      "\u001b[1mcollecting ... \u001b[0mcollected 6 items\n",
      "\n",
      "t_dcd6bca15e86460a80240907e5f6295f.py::test_addition \u001b[32mPASSED\u001b[0m\u001b[32m                                  [ 16%]\u001b[0m\n",
      "t_dcd6bca15e86460a80240907e5f6295f.py::test_dataset_length \u001b[32mPASSED\u001b[0m\u001b[32m                            [ 33%]\u001b[0m\n",
      "t_dcd6bca15e86460a80240907e5f6295f.py::test_output_shape \u001b[32mPASSED\u001b[0m\u001b[32m                              [ 50%]\u001b[0m\n",
      "t_dcd6bca15e86460a80240907e5f6295f.py::test_is_noise_randomized \u001b[32mPASSED\u001b[0m\u001b[32m                       [ 66%]\u001b[0m\n",
      "t_dcd6bca15e86460a80240907e5f6295f.py::test_is_normalized \u001b[32mPASSED\u001b[0m\u001b[32m                             [ 83%]\u001b[0m\n",
      "t_dcd6bca15e86460a80240907e5f6295f.py::test_wave_name \u001b[32mPASSED\u001b[0m\u001b[32m                                 [100%]\u001b[0m\n",
      "\n",
      "\u001b[32m======================================== \u001b[32m\u001b[1m6 passed\u001b[0m\u001b[32m in 3.92s\u001b[0m\u001b[32m ========================================\u001b[0m\n"
     ]
    },
    {
     "data": {
      "text/plain": [
       "<ExitCode.OK: 0>"
      ]
     },
     "execution_count": 60,
     "metadata": {},
     "output_type": "execute_result"
    }
   ],
   "source": [
    "import ipytest\n",
    "ipytest.autoconfig()\n",
    "\n",
    "def test_addition():\n",
    "    assert 1 + 1 == 2\n",
    "\n",
    "def test_dataset_length():\n",
    "    folder_path = \"C:/Users/cleme/ETH/Master/DataLab/dsl-as24-challenge-3/data/signal/train\"\n",
    "    dataset = SeismicDataset(folder_path)\n",
    "    assert len(dataset) == 20230 \n",
    "\n",
    "def test_output_shape():\n",
    "    folder_path = \"C:/Users/cleme/ETH/Master/DataLab/dsl-as24-challenge-3/data/signal/train\"\n",
    "    dataset = SeismicDataset(folder_path)\n",
    "    dataloader = DataLoader(dataset, batch_size=1, shuffle=True)\n",
    "    next_tensor, _, _ = next(iter(dataloader))\n",
    "    assert next_tensor.shape == (1,3,6000)\n",
    "\n",
    "def test_is_noise_randomized():\n",
    "    folder_path = \"C:/Users/cleme/ETH/Master/DataLab/dsl-as24-challenge-3/data/signal/train\"\n",
    "    dataset = SeismicDataset(folder_path)\n",
    "    dataloader = DataLoader(dataset, batch_size=1, shuffle=True)\n",
    "    next_tensor, p_wave_start, _ = next(iter(dataloader))\n",
    "    assert p_wave_start >= 0 and p_wave_start <= 6000\n",
    "\n",
    "def test_is_normalized():\n",
    "    folder_path = \"C:/Users/cleme/ETH/Master/DataLab/dsl-as24-challenge-3/data/signal/train\"\n",
    "    dataset = SeismicDataset(folder_path)\n",
    "    dataloader = DataLoader(dataset, batch_size=1, shuffle=True)\n",
    "    next_tensor, p_wave_start, _ = next(iter(dataloader))\n",
    "    assert th.all(th.logical_and(next_tensor >= -1,next_tensor <= 1))\n",
    "\n",
    "def test_wave_name():\n",
    "    folder_path = \"C:/Users/cleme/ETH/Master/DataLab/dsl-as24-challenge-3/data/signal/train\"\n",
    "    dataset = SeismicDataset(folder_path)\n",
    "    dataloader = DataLoader(dataset, batch_size=1, shuffle=True)\n",
    "    next_tensor, p_wave_start, wave_name = next(iter(dataloader))\n",
    "    assert len(wave_name) > 0\n",
    "\n",
    "\n",
    "ipytest.run('-vv')"
   ]
  }
 ],
 "metadata": {
  "kernelspec": {
   "display_name": "dsl",
   "language": "python",
   "name": "python3"
  },
  "language_info": {
   "codemirror_mode": {
    "name": "ipython",
    "version": 3
   },
   "file_extension": ".py",
   "mimetype": "text/x-python",
   "name": "python",
   "nbconvert_exporter": "python",
   "pygments_lexer": "ipython3",
   "version": "3.12.3"
  }
 },
 "nbformat": 4,
 "nbformat_minor": 2
}
