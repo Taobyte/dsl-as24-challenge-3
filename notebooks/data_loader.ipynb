{
 "cells": [
  {
   "cell_type": "code",
   "execution_count": 1,
   "metadata": {},
   "outputs": [],
   "source": [
    "import torch as th\n",
    "import pytest\n",
    "import pandas as pd\n",
    "import numpy as np\n",
    "from torch.utils.data import DataLoader, Dataset\n",
    "import os\n",
    "import glob"
   ]
  },
  {
   "cell_type": "code",
   "execution_count": 3,
   "metadata": {},
   "outputs": [],
   "source": [
    "class SeismicDataset(Dataset):\n",
    "\n",
    "    def __init__(self, signal_folder_path: str, noise_folder_path: str, randomized = False):\n",
    "\n",
    "        \"\"\"\n",
    "        Args:\n",
    "            signal_folder_path (str): Path to earthquake signal folder containing .npz files.\n",
    "            noise_folder_path (str): Path to noise folder containing .npz files.\n",
    "        \"\"\"\n",
    "\n",
    "        self.signal_folder_path = signal_folder_path\n",
    "        self.noise_folder_path = noise_folder_path\n",
    "        self.eq_signal_files = glob.glob(f'{signal_folder_path}/**/*.npz', recursive=True)\n",
    "        self.noise_files = glob.glob(f'{noise_folder_path}/**/*.npz', recursive=True)\n",
    "        self.randomized = randomized\n",
    "\n",
    "\n",
    "    def __len__(self) -> int:\n",
    "        return len(self.eq_signal_files)\n",
    "\n",
    "    def __getitem__(self, idx) -> tuple[th.Tensor, int, str]:\n",
    "\n",
    "        eq_path = self.eq_signal_files[idx]\n",
    "        eq = np.load(eq_path, allow_pickle=True)\n",
    "        eq_name = (os.path.splitext(os.path.basename(eq_path)))[0]\n",
    "\n",
    "        noise_idx = np.random.randint(0, len(self.noise_files))\n",
    "        noise_path = self.noise_files[noise_idx]\n",
    "        noise = np.load(noise_path, allow_pickle=True)\n",
    "        noise_name = (os.path.splitext(os.path.basename(noise_path)))[0]\n",
    "\n",
    "        eq_start = 0\n",
    "        noise_start = 0\n",
    "        if self.randomized:\n",
    "            eq_start = np.random.randint(low = 0, high = 6000)\n",
    "            noise_start = np.random.randint(low = 0, high = 12000)\n",
    "\n",
    "        Z_eq = eq['earthquake_waveform_Z'][eq_start:eq_start+6000]\n",
    "        N_eq = eq['earthquake_waveform_N'][eq_start:eq_start+6000]\n",
    "        E_eq = eq['earthquake_waveform_E'][eq_start:eq_start+6000]\n",
    "        event = np.stack([Z_eq, N_eq, E_eq], axis=0)\n",
    "        eq_tensor = th.from_numpy(event)\n",
    "\n",
    "        Z_noise = noise['noise_waveform_Z'][noise_start:noise_start+6000]\n",
    "        N_noise = noise['noise_waveform_N'][noise_start:noise_start+6000]\n",
    "        E_noise = noise['noise_waveform_E'][noise_start:noise_start+6000]\n",
    "        noise_stacked = np.stack([Z_noise, N_noise, E_noise], axis=0)\n",
    "        noise_tensor = th.from_numpy(noise_stacked)\n",
    "\n",
    "        # tensor_normalized = eq_tensor / eqtensor.abs().max()\n",
    "\n",
    "        p_wave_start = 6000 - eq_start\n",
    "        # , p_wave_start, eq_name, noise_name\n",
    "\n",
    "        print(eq_tensor.shape)\n",
    "        print(noise_tensor.shape)\n",
    "\n",
    "        noisy_eq = eq_tensor + noise_tensor\n",
    "\n",
    "        return noisy_eq, eq_tensor\n"
   ]
  },
  {
   "cell_type": "code",
   "execution_count": 5,
   "metadata": {},
   "outputs": [
    {
     "name": "stdout",
     "output_type": "stream",
     "text": [
      "\u001b[1m======================================= test session starts =======================================\u001b[0m\n",
      "platform win32 -- Python 3.12.3, pytest-8.3.3, pluggy-1.5.0 -- c:\\Users\\cleme\\miniconda3\\envs\\dsl\\python.exe\n",
      "cachedir: .pytest_cache\n",
      "rootdir: c:\\Users\\cleme\\ETH\\Master\\DataLab\\dsl-as24-challenge-3\n",
      "plugins: anyio-4.2.0, typeguard-4.3.0\n",
      "\u001b[1mcollecting ... \u001b[0mcollected 2 items\n",
      "\n",
      "t_e216c054b0144360a2e83cb3a6ddf972.py::test_dataset_length \u001b[32mPASSED\u001b[0m\u001b[32m                            [ 50%]\u001b[0m\n",
      "t_e216c054b0144360a2e83cb3a6ddf972.py::test_output_shape \u001b[32mPASSED\u001b[0m\u001b[32m                              [100%]\u001b[0m\n",
      "\n",
      "\u001b[32m======================================== \u001b[32m\u001b[1m2 passed\u001b[0m\u001b[32m in 2.39s\u001b[0m\u001b[32m ========================================\u001b[0m\n"
     ]
    },
    {
     "data": {
      "text/plain": [
       "<ExitCode.OK: 0>"
      ]
     },
     "execution_count": 5,
     "metadata": {},
     "output_type": "execute_result"
    }
   ],
   "source": [
    "import ipytest\n",
    "ipytest.autoconfig()\n",
    "\n",
    "def test_dataset_length():\n",
    "    signal_folder = \"C:/Users/cleme/ETH/Master/DataLab/dsl-as24-challenge-3/data/signal/train\"\n",
    "    noise_folder = \"C:/Users/cleme/ETH/Master/DataLab/dsl-as24-challenge-3/data/noise/train\"\n",
    "    dataset = SeismicDataset(signal_folder, noise_folder)\n",
    "    assert len(dataset) == 20230 \n",
    "\n",
    "def test_output_shape():\n",
    "    signal_folder = \"C:/Users/cleme/ETH/Master/DataLab/dsl-as24-challenge-3/data/signal/train\"\n",
    "    noise_folder = \"C:/Users/cleme/ETH/Master/DataLab/dsl-as24-challenge-3/data/noise/train\"\n",
    "    dataset = SeismicDataset(signal_folder, noise_folder)\n",
    "    dataloader = DataLoader(dataset, batch_size=1, shuffle=True)\n",
    "    next_tensor, noise_tensor = next(iter(dataloader))\n",
    "    print(next_tensor.shape)\n",
    "    print(noise_tensor.shape)\n",
    "    assert next_tensor.shape == (1,3,6000)\n",
    "\n",
    "\n",
    "ipytest.run('-vv')"
   ]
  }
 ],
 "metadata": {
  "kernelspec": {
   "display_name": "dsl",
   "language": "python",
   "name": "python3"
  },
  "language_info": {
   "codemirror_mode": {
    "name": "ipython",
    "version": 3
   },
   "file_extension": ".py",
   "mimetype": "text/x-python",
   "name": "python",
   "nbconvert_exporter": "python",
   "pygments_lexer": "ipython3",
   "version": "3.12.3"
  }
 },
 "nbformat": 4,
 "nbformat_minor": 2
}
