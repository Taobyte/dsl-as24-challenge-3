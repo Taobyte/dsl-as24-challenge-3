{
 "cells": [
  {
   "cell_type": "code",
   "execution_count": 1,
   "metadata": {},
   "outputs": [],
   "source": [
    "import numpy as np\n",
    "from numpy import ndarray"
   ]
  },
  {
   "cell_type": "code",
   "execution_count": null,
   "metadata": {},
   "outputs": [],
   "source": [
    "def compute_p_wave_onset(wave: ndarray) -> int:\n",
    "    pass\n",
    "\n",
    "def compute_s_wave_onset(wave: ndarray) -> int:\n",
    "    pass\n",
    "\n",
    "def compute_p_wave_onset_difference(predicted_signal: ndarray, ground_truth_signal: ndarray) -> int:\n",
    "    pass\n",
    "\n",
    "def compute_max_amplitude_difference(predicted_signal, ground_truth_signal) -> float:\n",
    "    return np.max(np.abs(predicted_signal - ground_truth_signal))\n",
    "\n",
    "def compute_cross_correlation(predicted_signal: ndarray, ground_truth_signal: ndarray) -> float:\n",
    "    cross_correlation = np.correlate(predicted_signal, ground_truth_signal)\n",
    "    return cross_correlation[0]\n",
    "\n",
    "def compute_signal_noise_ratio(predicted_signal: ndarray, ground_truth_signal: ndarray) -> float:\n",
    "    noise = predicted_signal - ground_truth_signal\n",
    "    std_ground_truth = np.std(ground_truth_signal)\n",
    "    std_noise = np.std(noise)  \n",
    "    return 10 * np.log10(std_ground_truth / std_noise)\n"
   ]
  }
 ],
 "metadata": {
  "kernelspec": {
   "display_name": "dsl",
   "language": "python",
   "name": "python3"
  },
  "language_info": {
   "codemirror_mode": {
    "name": "ipython",
    "version": 3
   },
   "file_extension": ".py",
   "mimetype": "text/x-python",
   "name": "python",
   "nbconvert_exporter": "python",
   "pygments_lexer": "ipython3",
   "version": "3.12.3"
  }
 },
 "nbformat": 4,
 "nbformat_minor": 2
}
